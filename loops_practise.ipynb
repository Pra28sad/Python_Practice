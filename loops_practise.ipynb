{
  "cells": [
    {
      "cell_type": "markdown",
      "metadata": {
        "id": "view-in-github",
        "colab_type": "text"
      },
      "source": [
        "<a href=\"https://colab.research.google.com/github/Pra28sad/Python_Practice/blob/main/loops_practise.ipynb\" target=\"_parent\"><img src=\"https://colab.research.google.com/assets/colab-badge.svg\" alt=\"Open In Colab\"/></a>"
      ]
    },
    {
      "cell_type": "code",
      "source": [
        "#ARMSTRONG NUMBER PROGRAM\n",
        "num=int(input(\"enter value: \"))\n",
        "sum=0\n",
        "temp=num\n",
        "while temp>0:\n",
        "    digit=temp%10\n",
        "    sum+=digit**(len(str(num)))\n",
        "    temp//=10\n",
        "if num==sum:\n",
        "    print(f\"{num} is armstrong number\")\n",
        "else:\n",
        "    print(f\"{num} is  not armstrong number\")"
      ],
      "metadata": {
        "colab": {
          "base_uri": "https://localhost:8080/"
        },
        "id": "VIeiec7otiVU",
        "outputId": "2976a362-3a7e-4b06-9cd1-5a4c22d42eab"
      },
      "execution_count": 6,
      "outputs": [
        {
          "output_type": "stream",
          "name": "stdout",
          "text": [
            "enter value: 153\n",
            "153 is armstrong number\n"
          ]
        }
      ]
    },
    {
      "cell_type": "code",
      "source": [
        "#average of given numbers\n",
        "total=0\n",
        "for i in range(4):\n",
        "    num=int(input(f\"enter {i} value :\"))\n",
        "    total+=num\n",
        "print(f\"average of 10 numbers is {total/10}\")\n"
      ],
      "metadata": {
        "colab": {
          "base_uri": "https://localhost:8080/"
        },
        "id": "MaEVIPestxXM",
        "outputId": "0b546fef-2f98-48e4-9945-70e6604f80a1"
      },
      "execution_count": 8,
      "outputs": [
        {
          "output_type": "stream",
          "name": "stdout",
          "text": [
            "enter 0 value :10\n",
            "enter 1 value :23\n",
            "enter 2 value :4\n",
            "enter 3 value :12\n",
            "average of 10 numbers is 4.9\n"
          ]
        }
      ]
    },
    {
      "cell_type": "code",
      "source": [
        "\n",
        "n1=int(input(\"enter 1st num: \"))\n",
        "n2=int(input(\"enter 2nd num: \"))\n",
        "\n",
        "for num in range(n1,n2):\n",
        "    if num%11==0 and num%2 != 0:\n",
        "        print(num)\n",
        "\n"
      ],
      "metadata": {
        "colab": {
          "base_uri": "https://localhost:8080/"
        },
        "id": "TjU_3ijVt6e1",
        "outputId": "968ec49f-1980-4c44-8a01-ec8ef26f1c1e"
      },
      "execution_count": 10,
      "outputs": [
        {
          "output_type": "stream",
          "name": "stdout",
          "text": [
            "enter 1st num: 11\n",
            "enter 2nd num: 36\n",
            "11\n",
            "33\n"
          ]
        }
      ]
    },
    {
      "cell_type": "code",
      "source": [
        "# n1=int(input(\"enter number 1 : \"))\n",
        "# n2=int(input(\"enter number 2: \"))\n",
        "for num in range(n1,n2):\n",
        "    if num%2!=0 and num%3!=0:\n",
        "        print(num)\n",
        ""
      ],
      "metadata": {
        "colab": {
          "base_uri": "https://localhost:8080/"
        },
        "id": "O9s1c46Sytow",
        "outputId": "e50bf3e8-26da-4cd4-c91c-20b55874233c"
      },
      "execution_count": 11,
      "outputs": [
        {
          "output_type": "stream",
          "name": "stdout",
          "text": [
            "11\n",
            "13\n",
            "17\n",
            "19\n",
            "23\n",
            "25\n",
            "29\n",
            "31\n",
            "35\n"
          ]
        }
      ]
    },
    {
      "cell_type": "code",
      "source": [
        "# num1=int(input(\"enter 1st number: \"))\n",
        "# num2=int(input(\"enter 2nd number: \"))\n",
        "tOdd=0\n",
        "tEven=0\n",
        "for number in range(n1,n2+1):\n",
        "    if number%2==0:\n",
        "        tOdd+=number\n",
        "    else:\n",
        "        tEven+=number\n",
        "print(f\"total of odd numbers : {tOdd}\")\n",
        "print(f\"total of even numbers : {tEven}\")\n",
        "\n",
        "\n"
      ],
      "metadata": {
        "colab": {
          "base_uri": "https://localhost:8080/"
        },
        "id": "RtXCmuV0y_tu",
        "outputId": "7fed4a05-f117-4c65-a7e8-ca3d29c2ff05"
      },
      "execution_count": 12,
      "outputs": [
        {
          "output_type": "stream",
          "name": "stdout",
          "text": [
            "total of odd numbers : 312\n",
            "total of even numbers : 299\n"
          ]
        }
      ]
    },
    {
      "cell_type": "code",
      "source": [
        "total=0\n",
        "while True:\n",
        "    number=int(input(\"enter value :\"))\n",
        "    lst=[]\n",
        "    lst.append(number)\n",
        "\n",
        "    if number == 0:\n",
        "        break\n",
        "    else:\n",
        "        total+=number\n",
        "\n",
        "print(f\"the average of entered values {total/len(lst)}\")\n"
      ],
      "metadata": {
        "colab": {
          "base_uri": "https://localhost:8080/"
        },
        "id": "hzCh5lSDzIMs",
        "outputId": "a1c64a66-299b-4088-df98-0f3899921688"
      },
      "execution_count": 13,
      "outputs": [
        {
          "output_type": "stream",
          "name": "stdout",
          "text": [
            "enter value :10\n",
            "enter value :23\n",
            "enter value :0\n",
            "the average of entered values 33.0\n"
          ]
        }
      ]
    },
    {
      "cell_type": "code",
      "source": [
        "# num1=int(input(\"enter decimal value: \"))\n",
        "# print(bin(num1))\n",
        "num=int(input(\"enter any number : \"))\n",
        "l=[]\n",
        "while num:\n",
        "    rem=num%2\n",
        "    l.append(rem)\n",
        "    num=num//2\n",
        "for i in range(len(l)-1,-1,-1):\n",
        "    print(l[i],end=' ')\n"
      ],
      "metadata": {
        "colab": {
          "base_uri": "https://localhost:8080/"
        },
        "id": "Emhs3tr1zWNy",
        "outputId": "99427afb-db33-44a5-b0f8-b5ee6e4aa2c2"
      },
      "execution_count": 14,
      "outputs": [
        {
          "output_type": "stream",
          "name": "stdout",
          "text": [
            "enter any number : 54\n",
            "1 1 0 1 1 0 "
          ]
        }
      ]
    },
    {
      "cell_type": "code",
      "source": [
        "#to convert fahrenheat to celsius\n",
        "n=float(input(\"enter temperature :\"))\n",
        "print(f\"the conversion of temperature into fahrenheit is : {(n*1.8)+32}\")"
      ],
      "metadata": {
        "colab": {
          "base_uri": "https://localhost:8080/"
        },
        "id": "qCRPGmBSzhyz",
        "outputId": "805c6490-6eb5-4273-a44e-baa20cf6a861"
      },
      "execution_count": 15,
      "outputs": [
        {
          "output_type": "stream",
          "name": "stdout",
          "text": [
            "enter temperature :28.34\n",
            "the conversion of temperature into fahrenheit is : 83.012\n"
          ]
        }
      ]
    },
    {
      "cell_type": "code",
      "source": [
        "number=int(input(\"enter number: \"))\n",
        "total=1\n",
        "for i in range(number,1,-1):\n",
        "    total=total*i\n",
        "print(total)\n",
        "\n"
      ],
      "metadata": {
        "colab": {
          "base_uri": "https://localhost:8080/"
        },
        "id": "e5S_1w6Kzpi_",
        "outputId": "ffb514a3-b180-49aa-9b3f-7fea4f5dbfda"
      },
      "execution_count": 16,
      "outputs": [
        {
          "output_type": "stream",
          "name": "stdout",
          "text": [
            "enter number: 5\n",
            "120\n"
          ]
        }
      ]
    },
    {
      "cell_type": "code",
      "source": [
        "# 0,1,1,2,3,5,8,13.....\n",
        "# n=int(input(\"enter any number :\"))\n",
        "# l=[0,1]\n",
        "#s=0\n",
        "# for i in range(2,n):\n",
        "#     l.append(l[-1]+l[-2])\n",
        "# for i in l:\n",
        "#     print(i,end=\" \")\n",
        "\n",
        "num=int(input(\"enter any number: \"))\n",
        "n1=0\n",
        "n2=1\n",
        "temp=0\n",
        "for i in range(num):\n",
        "    print(temp,end=\" \")\n",
        "    # n1=n2\n",
        "    # n2=temp\n",
        "    n1,n2=n2,temp\n",
        "    temp=n1+n2\n",
        "\n",
        ""
      ],
      "metadata": {
        "colab": {
          "base_uri": "https://localhost:8080/"
        },
        "id": "h-56zBFZzw5I",
        "outputId": "79f1d7e1-635a-4ca8-e01e-75e1e8bf0038"
      },
      "execution_count": 17,
      "outputs": [
        {
          "output_type": "stream",
          "name": "stdout",
          "text": [
            "enter any number: 5\n",
            "0 1 1 2 3 "
          ]
        }
      ]
    },
    {
      "cell_type": "code",
      "source": [
        "num=int(input(\"enter number: \"))\n",
        "temp=num\n",
        "rev=0\n",
        "while num>0:\n",
        "    dig=num%10\n",
        "    rev=rev*10+dig\n",
        "    num=num//10\n",
        "if temp==rev:\n",
        "    print(f\"{temp} is palindrome number\")\n",
        "else:\n",
        "    print(f\"{temp} is not palindrome\")\n"
      ],
      "metadata": {
        "colab": {
          "base_uri": "https://localhost:8080/"
        },
        "id": "hgnyItafz2lW",
        "outputId": "94c13c06-e62d-4977-c92b-3db5ca2616eb"
      },
      "execution_count": 18,
      "outputs": [
        {
          "output_type": "stream",
          "name": "stdout",
          "text": [
            "enter number: 565\n",
            "565 is palindrome number\n"
          ]
        }
      ]
    },
    {
      "cell_type": "code",
      "source": [
        "str1=input(\"enter any name: \")\n",
        "s_str1=str1[::-1]\n",
        "if str1==s_str1:\n",
        "    print(f\"{str1} --> is palilndrome\")\n",
        "else:\n",
        "    print(f\"{str1} --> is not palindrome\")\n"
      ],
      "metadata": {
        "colab": {
          "base_uri": "https://localhost:8080/"
        },
        "id": "zo_QmrPXz8gV",
        "outputId": "c2fa0d9a-d4d0-4ee1-9111-e7767bbfcc4e"
      },
      "execution_count": 19,
      "outputs": [
        {
          "output_type": "stream",
          "name": "stdout",
          "text": [
            "enter any name: mom\n",
            "mom --> is palilndrome\n"
          ]
        }
      ]
    },
    {
      "cell_type": "code",
      "source": [
        "n=5#int(input(\"enter any number: \"))\n",
        "\n",
        "for i in range(n):\n",
        "\n",
        "    c=n-i\n",
        "\n",
        "    for j in range(i,n):\n",
        "        print(c,end=\" \")\n",
        "        c-=1\n",
        "    print()\n",
        "\n",
        "'''5 4 3 2 1\n",
        "   4 3 2 1\n",
        "   3 2 1\n",
        "   2 1\n",
        "   1\n",
        "   '''\n"
      ],
      "metadata": {
        "colab": {
          "base_uri": "https://localhost:8080/",
          "height": 122
        },
        "id": "02yKhpBV0E9A",
        "outputId": "eaf9b884-5731-4bec-af1a-cf6a5ad8dea3"
      },
      "execution_count": 20,
      "outputs": [
        {
          "output_type": "stream",
          "name": "stdout",
          "text": [
            "5 4 3 2 1 \n",
            "4 3 2 1 \n",
            "3 2 1 \n",
            "2 1 \n",
            "1 \n"
          ]
        },
        {
          "output_type": "execute_result",
          "data": {
            "text/plain": [
              "'5 4 3 2 1\\n   4 3 2 1\\n   3 2 1\\n   2 1\\n   1 \\n   '"
            ],
            "application/vnd.google.colaboratory.intrinsic+json": {
              "type": "string"
            }
          },
          "metadata": {},
          "execution_count": 20
        }
      ]
    },
    {
      "cell_type": "code",
      "source": [
        "n=int(input(\"enter number: \"))\n",
        "p=5\n",
        "for i in range(n):\n",
        "    for j in range(i,n):\n",
        "        print(p,end=\" \")\n",
        "    p-=1\n",
        "    print()\n"
      ],
      "metadata": {
        "colab": {
          "base_uri": "https://localhost:8080/"
        },
        "id": "5mCYFxz50LGr",
        "outputId": "e17c3f28-2dc9-48a8-ea9f-55827980913f"
      },
      "execution_count": 21,
      "outputs": [
        {
          "output_type": "stream",
          "name": "stdout",
          "text": [
            "enter number: 5\n",
            "5 5 5 5 5 \n",
            "4 4 4 4 \n",
            "3 3 3 \n",
            "2 2 \n",
            "1 \n"
          ]
        }
      ]
    },
    {
      "cell_type": "code",
      "source": [
        "n=int(input(\"enter value: \"))\n",
        "c=65\n",
        "for i in range(n):\n",
        "    for j in range(i+1):\n",
        "        print(chr(c),end=\" \")\n",
        "        c+=1\n",
        "    print()"
      ],
      "metadata": {
        "colab": {
          "base_uri": "https://localhost:8080/"
        },
        "id": "1HW18B_y0PyX",
        "outputId": "ec148476-0e03-4ac4-ad8a-66d0a647010f"
      },
      "execution_count": 22,
      "outputs": [
        {
          "output_type": "stream",
          "name": "stdout",
          "text": [
            "enter value: 5\n",
            "A \n",
            "B C \n",
            "D E F \n",
            "G H I J \n",
            "K L M N O \n"
          ]
        }
      ]
    },
    {
      "cell_type": "code",
      "source": [
        "# n=65\n",
        "# for i in range (5):\n",
        "\n",
        "#    for j in range (i+1):\n",
        "#       print (chr(n), end = ' ')\n",
        "\n",
        "#       n+=1\n",
        "#    print()\n",
        "for i in range (5):\n",
        "    for j in range(5):\n",
        "        print(\"A\",end=\" \")\n",
        "    print()"
      ],
      "metadata": {
        "colab": {
          "base_uri": "https://localhost:8080/"
        },
        "id": "sTgGhY610T0H",
        "outputId": "21e29098-dfd9-4de6-fc2f-2ed0803d9ad9"
      },
      "execution_count": 23,
      "outputs": [
        {
          "output_type": "stream",
          "name": "stdout",
          "text": [
            "A A A A A \n",
            "A A A A A \n",
            "A A A A A \n",
            "A A A A A \n",
            "A A A A A \n"
          ]
        }
      ]
    },
    {
      "cell_type": "code",
      "source": [
        "n=5\n",
        "c=n\n",
        "for i in range(n):\n",
        "    for j in range(i,n):\n",
        "        print(c,end=\" \")\n",
        "        c-=1\n",
        "    print()"
      ],
      "metadata": {
        "colab": {
          "base_uri": "https://localhost:8080/"
        },
        "id": "kZyVlmeb0Xxx",
        "outputId": "3bb2ec95-9649-414e-8848-dd9bb6555b0f"
      },
      "execution_count": 24,
      "outputs": [
        {
          "output_type": "stream",
          "name": "stdout",
          "text": [
            "5 4 3 2 1 \n",
            "0 -1 -2 -3 \n",
            "-4 -5 -6 \n",
            "-7 -8 \n",
            "-9 \n"
          ]
        }
      ]
    },
    {
      "cell_type": "code",
      "source": [
        "# num=int(input(\"enter number: \"))\n",
        "# for i in range(1,num):\n",
        "#     for j in range(1,i+1):\n",
        "#         print(j,end=\" \")\n",
        "#     print()\n",
        "num=int(input(\"enter number: \"))\n",
        "for i in range(num,0,-1):\n",
        "    for j in range(i-1):\n",
        "        print(\"*\",end=\" \")\n",
        "    print()\n"
      ],
      "metadata": {
        "colab": {
          "base_uri": "https://localhost:8080/"
        },
        "id": "n8WuPmK20be-",
        "outputId": "678641da-fed4-46ea-8739-2e569df616e9"
      },
      "execution_count": 25,
      "outputs": [
        {
          "output_type": "stream",
          "name": "stdout",
          "text": [
            "enter number: 5\n",
            "* * * * \n",
            "* * * \n",
            "* * \n",
            "* \n",
            "\n"
          ]
        }
      ]
    },
    {
      "cell_type": "code",
      "source": [
        "num1=int(input(\"enter any value: \"))\n",
        "lst=[]\n",
        "sum=0\n",
        "for i in range(1,num1):\n",
        "    if num1%i==0:\n",
        "        lst.append(i)\n",
        "print(lst)\n",
        "for i in lst:\n",
        "    sum+=i\n",
        "if num1==sum:\n",
        "    print(f\"{num1} --> is perfect number\")\n",
        "else:\n",
        "    print(f\"{num1} --> is  not perfect number\")\n"
      ],
      "metadata": {
        "colab": {
          "base_uri": "https://localhost:8080/"
        },
        "id": "r2pRi9E20eax",
        "outputId": "dadaac2b-02e3-4180-8cc3-a88e94c83bc9"
      },
      "execution_count": 29,
      "outputs": [
        {
          "output_type": "stream",
          "name": "stdout",
          "text": [
            "enter any value: 6\n",
            "[1, 2, 3]\n",
            "6 --> is perfect number\n"
          ]
        }
      ]
    },
    {
      "cell_type": "code",
      "source": [
        "num=int(input(\"enter anny number : \"))\n",
        "lst=[]\n",
        "for i in range(2,num-1):\n",
        "    if num%i!=0:\n",
        "\n",
        "        print(i)\n"
      ],
      "metadata": {
        "colab": {
          "base_uri": "https://localhost:8080/"
        },
        "id": "ab3F56kk0lBF",
        "outputId": "d5e77e7d-2f6d-47bf-b16e-b159932bb2dc"
      },
      "execution_count": 31,
      "outputs": [
        {
          "output_type": "stream",
          "name": "stdout",
          "text": [
            "enter anny number : 10\n",
            "3\n",
            "4\n",
            "6\n",
            "7\n",
            "8\n"
          ]
        }
      ]
    },
    {
      "cell_type": "code",
      "source": [
        "#prime numbers between two numbers\n",
        "num1=int(input(\"enter 1st number: \"))\n",
        "num2=int(input(\"enter 2nd number: \"))\n",
        "for i in range(num1,num2+1):\n",
        "    if i>1:\n",
        "\n",
        "        for j in range(2,i):\n",
        "            if i%j==0:\n",
        "                break\n",
        "        else:\n",
        "            print(i)\n"
      ],
      "metadata": {
        "colab": {
          "base_uri": "https://localhost:8080/"
        },
        "id": "tT9npHSX1EFx",
        "outputId": "91f0c00a-fd50-4f7f-b87c-fcb9f3a564a1"
      },
      "execution_count": 32,
      "outputs": [
        {
          "output_type": "stream",
          "name": "stdout",
          "text": [
            "enter 1st number: 10\n",
            "enter 2nd number: 20\n",
            "11\n",
            "13\n",
            "17\n",
            "19\n"
          ]
        }
      ]
    },
    {
      "cell_type": "code",
      "source": [
        "#check prime number\n",
        "num=int(input(\"enter value:\"))\n",
        "f=0\n",
        "if num==1 or num ==0:\n",
        "    f=1\n",
        "\n",
        "\n",
        "for i in range(2,num):\n",
        "    if num%i==0:\n",
        "        f=1\n",
        "    else:\n",
        "        f=0\n",
        "if f==1:\n",
        "        print(f\"{num} is not prime\")\n",
        "else:\n",
        "        print(f\"{num} is prime\")\n"
      ],
      "metadata": {
        "colab": {
          "base_uri": "https://localhost:8080/"
        },
        "id": "zrgy_8kj1UdB",
        "outputId": "cd05569d-30c7-4e14-bd1b-a5c5e545e1f7"
      },
      "execution_count": 33,
      "outputs": [
        {
          "output_type": "stream",
          "name": "stdout",
          "text": [
            "enter value:5\n",
            "5 is prime\n"
          ]
        }
      ]
    },
    {
      "cell_type": "code",
      "source": [
        "digit=str(input(\"enter value: \"))\n",
        "total=1\n",
        "for i in digit:\n",
        "    total=total*int(i)\n",
        "print(total)\n",
        "# num=int(input(\"enter any number:\"))\n",
        "# p=1\n",
        "# for i in str(num):\n",
        "#     r=num%10\n",
        "#     p*=r\n",
        "#     num//=10\n",
        "# print(f\"result is {p}\")\n",
        "# num=int(input(\"enter any number:\"))\n",
        "# p=1\n",
        "# while (num):\n",
        "#     r=num%10\n",
        "#     p*=r\n",
        "#     num//=10\n",
        "# print(f\"result is {p}\")"
      ],
      "metadata": {
        "colab": {
          "base_uri": "https://localhost:8080/"
        },
        "id": "sIyJeibo1zbv",
        "outputId": "b9012bd2-40bc-41db-9b99-83b459a32a75"
      },
      "execution_count": 34,
      "outputs": [
        {
          "output_type": "stream",
          "name": "stdout",
          "text": [
            "enter value: 23\n",
            "6\n"
          ]
        }
      ]
    },
    {
      "cell_type": "code",
      "source": [
        "import math\n",
        "x=int(input(\"enter x value: \"))\n",
        "n=int(input(\"enter n value: \"))\n",
        "sum=0\n",
        "for i in range (n):\n",
        "\n",
        "    sum =sum+((x**i)/math.factorial(i))\n",
        "print(int(sum))\n"
      ],
      "metadata": {
        "colab": {
          "base_uri": "https://localhost:8080/"
        },
        "id": "mLo6gjqu19hn",
        "outputId": "aa86d1c8-852c-4ad8-945a-ef49429df7a4"
      },
      "execution_count": 35,
      "outputs": [
        {
          "output_type": "stream",
          "name": "stdout",
          "text": [
            "enter x value: 5\n",
            "enter n value: 6\n",
            "91\n"
          ]
        }
      ]
    },
    {
      "cell_type": "code",
      "source": [
        "# num=int(input(\"enter any value :\"))\n",
        "# total=0\n",
        "# while(num):\n",
        "#     s=num%10\n",
        "#     total=total+s\n",
        "#     num=num//10\n",
        "# print(f\"result is :{total}\")\n",
        "num=int(input(\"enter any value :\"))\n",
        "total=0\n",
        "for i in str(num):\n",
        "    s=num%10\n",
        "    total=total+s\n",
        "    num=num//10\n",
        "print(f\"result is :{total}\")#sum of digits"
      ],
      "metadata": {
        "colab": {
          "base_uri": "https://localhost:8080/"
        },
        "id": "sDTyAFoB2Sma",
        "outputId": "37727f87-2e54-494d-8089-8610c52b93a9"
      },
      "execution_count": 36,
      "outputs": [
        {
          "output_type": "stream",
          "name": "stdout",
          "text": [
            "enter any value :555\n",
            "result is :15\n"
          ]
        }
      ]
    },
    {
      "cell_type": "code",
      "source": [
        "number=int(input(\"enter required table number : \"))\n",
        "n=int(input(\"enter value :\"))\n",
        "for i in range(1,n):\n",
        "    print(f\"{number} X {i} = {number*i}\")\n"
      ],
      "metadata": {
        "colab": {
          "base_uri": "https://localhost:8080/"
        },
        "id": "apJ9mtLb2ih6",
        "outputId": "e29affbf-dd6a-4fc1-8a42-4619e39f39ac"
      },
      "execution_count": 37,
      "outputs": [
        {
          "output_type": "stream",
          "name": "stdout",
          "text": [
            "enter required table number : 5\n",
            "enter value :12\n",
            "5 X 1 = 5\n",
            "5 X 2 = 10\n",
            "5 X 3 = 15\n",
            "5 X 4 = 20\n",
            "5 X 5 = 25\n",
            "5 X 6 = 30\n",
            "5 X 7 = 35\n",
            "5 X 8 = 40\n",
            "5 X 9 = 45\n",
            "5 X 10 = 50\n",
            "5 X 11 = 55\n"
          ]
        }
      ]
    },
    {
      "cell_type": "code",
      "source": [
        "number=int(input(\"enter number for required table : \"))\n",
        "for i in range(21):\n",
        "    print(f\"{number} * {i} = {number*i}\")"
      ],
      "metadata": {
        "colab": {
          "base_uri": "https://localhost:8080/"
        },
        "id": "2XkylsO-2uMA",
        "outputId": "5f0d30f9-e7d3-4a28-f372-65d2a38bedeb"
      },
      "execution_count": 38,
      "outputs": [
        {
          "output_type": "stream",
          "name": "stdout",
          "text": [
            "enter number for required table : 5\n",
            "5 * 0 = 0\n",
            "5 * 1 = 5\n",
            "5 * 2 = 10\n",
            "5 * 3 = 15\n",
            "5 * 4 = 20\n",
            "5 * 5 = 25\n",
            "5 * 6 = 30\n",
            "5 * 7 = 35\n",
            "5 * 8 = 40\n",
            "5 * 9 = 45\n",
            "5 * 10 = 50\n",
            "5 * 11 = 55\n",
            "5 * 12 = 60\n",
            "5 * 13 = 65\n",
            "5 * 14 = 70\n",
            "5 * 15 = 75\n",
            "5 * 16 = 80\n",
            "5 * 17 = 85\n",
            "5 * 18 = 90\n",
            "5 * 19 = 95\n",
            "5 * 20 = 100\n"
          ]
        }
      ]
    },
    {
      "cell_type": "code",
      "source": [],
      "metadata": {
        "id": "RxJU4eVS20Is"
      },
      "execution_count": null,
      "outputs": []
    }
  ],
  "metadata": {
    "colab": {
      "name": "Welcome To Colaboratory",
      "provenance": [],
      "include_colab_link": true
    },
    "kernelspec": {
      "display_name": "Python 3",
      "name": "python3"
    }
  },
  "nbformat": 4,
  "nbformat_minor": 0
}